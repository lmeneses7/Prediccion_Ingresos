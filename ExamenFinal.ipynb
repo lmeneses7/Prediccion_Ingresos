{
  "nbformat": 4,
  "nbformat_minor": 0,
  "metadata": {
    "colab": {
      "provenance": [],
      "include_colab_link": true
    },
    "kernelspec": {
      "name": "python3",
      "display_name": "Python 3"
    },
    "language_info": {
      "name": "python"
    }
  },
  "cells": [
    {
      "cell_type": "markdown",
      "metadata": {
        "id": "view-in-github",
        "colab_type": "text"
      },
      "source": [
        "<a href=\"https://colab.research.google.com/github/lmeneses7/Prediccion_Ingresos/blob/main/ExamenFinal.ipynb\" target=\"_parent\"><img src=\"https://colab.research.google.com/assets/colab-badge.svg\" alt=\"Open In Colab\"/></a>"
      ]
    },
    {
      "cell_type": "markdown",
      "source": [
        "## Instrucciones\n",
        "\n",
        "**El examen puede ser realizado en grupo de tres personas, sin embargo, cada integrante crear y ejecutar las tareas de actualización en su GitHub.**\n",
        "\n",
        "A continuación, se encuentran las instrucciones para el desarrollo del examen de nuestro curso de Ciencias de Datos para la Economía, el cual es parte de su portfolio.\n",
        "\n",
        "**Objetivo**: Que el/la estudiante utilice las herramientas de Git y posteriormente publicar su primer proyecto de ciencias de datos en GitHub.\n",
        "\n",
        "A continuación encontrará el dataset **ingresos.txt** en la carpeta de **Datos**, el cual contiene información de variables que buscan predecir los ingresos anuales de los encuestados utilizando datos de encuestas de 1990.\n",
        "\n",
        "El dataset tiene 1.816 filas y 14 columnas. A continuación se describen las columnas:\n",
        "\n",
        "- estatura: Unidad de medida centímetros\n",
        "- peso: Unidad de medida kilogramos\n",
        "- genero\n",
        "- ingresos: en dólares\n",
        "- etnia: etnia en EE.UU.\n",
        "- educacion: en años\n",
        "- educacion_madre: en años\n",
        "- educacion_padre: en años\n",
        "- Camina: Camina al trabajo\n",
        "  - 1: Nunca\n",
        "  - 2: Una vez al mes o menos\n",
        "  - 3: Alrededor de dos veces al mes\n",
        "  - 4: Alrededor de una veces a la semana\n",
        "  - 5: Dos veces a la semana\n",
        "  - 6: Tres veces a la semana\n",
        "  - 7: Mas de tres veces a la semana\n",
        "  - 8: Todos los días\n",
        "- ejercicio: días de la semana que practica ejercicios\n",
        "- fumador: Fuma 7 cigarros o más a la semana\n",
        "  - 1: Si\n",
        "  - 2: No\n",
        "- tenso: días de la semana en dicho estado\n",
        "- malhumorado: : días de la semana en dicho estado\n",
        "- edad: en años"
      ],
      "metadata": {
        "id": "aOsuxUoMgdkO"
      }
    },
    {
      "cell_type": "markdown",
      "source": [
        "\n",
        "\n",
        "**Tareas solicitadas:**\n",
        "\n",
        "Con el set de datos  ingresos.txt, debe realizar las siguientes actividades tanto en Python, Git y GitHub.:\n",
        "\n",
        "- Crear carpeta donde va a trabajar su proyecto\n",
        "\n",
        "\n",
        "- Inicializar su proyecto en git\n",
        "\n",
        "  **`git init`**\n",
        "\n",
        "- Crear un cuaderno de jupyter notebook, ya sea en colab o en su computador, para realizar su actividad.\n",
        "\n",
        "\n",
        "- Crear un archivo con nombre README.md\n",
        "touch README.md\n",
        "\n",
        "- Describa su proyecto en el archivo README.md utilizando lenguaje markdown o latex. Puede usar como ayuda gráfica la página web indicada en las slices vistas en clase.\n",
        "\n",
        "- Realizar un análisis descriptivos y visualización de datos: Debe realizar tareas tales como, descripción de los datos, transformaciones en caso de ser necesario, imputación, entro otras.\n",
        "Debe guardar su proyecto y agregar el archivo a Git y comentarlo.\n",
        "\n",
        "  **`crt + s`**\n",
        "\n",
        "  **`git add`**\n",
        "\n",
        "  **`git commit`**\n",
        "\n",
        "- Crear un repositorio remoto en GitHub con el nombre Ciencias de Datos:\n",
        "\n",
        "- Conectarse desde su computador al repositorio remoto. No olvide enlazar su computador.\n",
        "git remote add origin https://github.com/nombre_usuario/nombre_repositorio.git\n",
        "\n",
        "  Otra alternativa es realizar el proyecto usanod colab.\n",
        "\n",
        "- Crear rama principal en su computador\n",
        "\n",
        "  **`git branch -M main`**\n",
        "\n",
        "- Agregar cuaderno de jupyter a repositorio remoto\n",
        "\n",
        "  **`git push -u origin main`**\n",
        "\n",
        "- Crear nueva rama para la segunda parte del Proyecto.\n",
        "\n",
        "  **`git branch`**\n",
        "\n",
        "- Moverse a nueva rama para la segunda parte del Proyecto.\n",
        "\n",
        "  **`git checkout`**\n",
        "\n",
        "- Continuar con su tarea en jupyter notebook. Ahora deberá aplicar reducción de dimensionalidad usando el algoritmo PCA. No es necesario que realice los test estadístico, solamente explicarlos e indicar que se cumplen los supuestos.\n",
        "Debe guardar su proyecto y agregar el archivo a Git y comentarlo.\n",
        "\n",
        "  **`crt + s`**\n",
        "\n",
        "  **`git add`**\n",
        "\n",
        "  **`git commit`**\n",
        "\n",
        "- Moverse a la rama principal y realizar merge a la rama creada.\n",
        "\n",
        "  **`git merge`**\n",
        "\n",
        "- Actualizar la rama principal de su repositorio remoto y agregar la rama creada\n",
        "\n",
        "  **`git push origin main`**\n",
        "\n",
        "  **`git push origin nombre_rama_2`**\n",
        "\n",
        "\n",
        "- Finalmente, cada integrante debe agregar la url de su proyecto en el aulavirtual\n",
        "\n",
        "**Fecha Entrega: Domingo 15 de Diciembre de 2024, 23:00 hrs.**\n",
        "\n",
        "\n",
        "**Nota 1:** Los códigos y pasos indicados deben ser utilizados como referencia, ya que es posible que algún paso o comandos no se hayan indicado.\n",
        "\n",
        "**Nota 2**: En caso de que no pueda generar el proyecto con las ramas solicitadas, puede cargar el proyecto con un solo push."
      ],
      "metadata": {
        "id": "Y67JZRxoXmzB"
      }
    },
    {
      "cell_type": "markdown",
      "source": [
        "# **Librerias**"
      ],
      "metadata": {
        "id": "4bo3DXNHjGKw"
      }
    },
    {
      "cell_type": "code",
      "source": [
        "import pandas as pd\n",
        "import matplotlib.pyplot as plt\n",
        "import seaborn as sns\n",
        "import requests\n",
        "from sklearn.decomposition import PCA\n",
        "from sklearn.preprocessing import StandardScaler\n",
        "import pandas as pd"
      ],
      "metadata": {
        "id": "0GpapNfOjJvx"
      },
      "execution_count": 24,
      "outputs": []
    },
    {
      "cell_type": "code",
      "source": [
        "from google.colab import files\n"
      ],
      "metadata": {
        "id": "mDURBDwQmABj"
      },
      "execution_count": 15,
      "outputs": []
    },
    {
      "cell_type": "code",
      "source": [
        "from google.colab import drive\n",
        "drive.mount('/content/drive')"
      ],
      "metadata": {
        "colab": {
          "base_uri": "https://localhost:8080/"
        },
        "id": "qqsN5FMuqO-c",
        "outputId": "949c7793-d1a4-4c19-93d5-fe94f69c526c"
      },
      "execution_count": 16,
      "outputs": [
        {
          "output_type": "stream",
          "name": "stdout",
          "text": [
            "Mounted at /content/drive\n"
          ]
        }
      ]
    },
    {
      "cell_type": "code",
      "source": [
        "data = pd.read_csv('/content/drive/MyDrive/Ciencia de Datos para Economía/ingresos-1.txt', sep='\\t')\n",
        "data\n",
        "data1 = data.dropna()\n"
      ],
      "metadata": {
        "collapsed": true,
        "id": "oBo6MeYLqoxx"
      },
      "execution_count": 36,
      "outputs": []
    },
    {
      "cell_type": "code",
      "source": [
        "# Escalar datos\n",
        "features = ['estatura', 'peso', 'educacion', 'edad', 'ejercicio']\n",
        "x = StandardScaler().fit_transform(data1[features])\n",
        "\n",
        "#  Aplicar PCA\n",
        "pca = PCA(n_components=2)\n",
        "principales = pca.fit_transform(x)\n",
        "\n",
        "# # Crear DataFrame con componentes principales\n",
        "pca_df = pd.DataFrame(data=principales, columns=['PC1', 'PC2'])\n",
        "print(pca_df.head())"
      ],
      "metadata": {
        "colab": {
          "base_uri": "https://localhost:8080/"
        },
        "id": "Jr7U4F5C3CGH",
        "outputId": "0017d843-36cd-4fe9-b801-7c4b6e61df4e"
      },
      "execution_count": 44,
      "outputs": [
        {
          "output_type": "stream",
          "name": "stdout",
          "text": [
            "        PC1       PC2\n",
            "0  2.360637  0.990727\n",
            "1 -0.431478 -0.405595\n",
            "2 -0.993335 -0.613571\n",
            "3 -1.503012  0.330248\n",
            "4  0.237492  0.829792\n"
          ]
        }
      ]
    }
  ]
}